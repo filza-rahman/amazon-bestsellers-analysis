{
 "cells": [
  {
   "cell_type": "markdown",
   "id": "abb8a36b-985d-44df-be8c-faecfcb13835",
   "metadata": {},
   "source": [
    "# Amazon Best Sellers Data Analysis (2009–2019)\n",
    "Author: Filza Rahman  \n",
    "Description: An analysis of top-selling books using Python, pandas, and matplotlib.\n"
   ]
  },
  {
   "cell_type": "code",
   "execution_count": null,
   "id": "b84f6cce-2694-4cbd-8633-44fd2b5e3e2b",
   "metadata": {},
   "outputs": [],
   "source": [
    "# Step 1: Import Required Libraries\n",
    "import pandas as pd\n",
    "import matplotlib.pyplot as plt\n"
   ]
  },
  {
   "cell_type": "markdown",
   "id": "d8c3fbf9-3c26-413c-8ab3-cb5becbb3efd",
   "metadata": {},
   "source": [
    "# Step 2: Load the Dataset\n",
    "Load the CSV file containing the Amazon bestsellers data."
   ]
  },
  {
   "cell_type": "code",
   "execution_count": null,
   "id": "8a32b6c2-7362-426c-8647-d48d63144d99",
   "metadata": {},
   "outputs": [],
   "source": [
    "df = pd.read_csv('bestsellers.csv')\n",
    "\n",
    "print(\" Data successfully loaded!\\n\")\n",
    "print(df.head())\n",
    "print(\"\\nShape of dataset:\", df.shape)\n",
    "print(\"\\nColumns:\", df.columns.tolist())\n"
   ]
  },
  {
   "cell_type": "markdown",
   "id": "473a5c8b-3520-4db2-bb8b-00ef54e1c4c5",
   "metadata": {},
   "source": [
    "# Step 3: Clean the Data\n",
    "- Remove duplicates  \n",
    "- Rename columns for clarity  \n",
    "- Convert Price column to float"
   ]
  },
  {
   "cell_type": "code",
   "execution_count": null,
   "id": "24fccb0a-0f34-4dc3-807d-70c4efcae894",
   "metadata": {},
   "outputs": [],
   "source": [
    "df.drop_duplicates(inplace=True)\n",
    "\n",
    "df.rename(columns={\n",
    "    \"Name\": \"Title\",\n",
    "    \"User Rating\": \"Rating\",\n",
    "    \"Year\": \"Publication Year\"\n",
    "}, inplace=True)\n",
    "\n",
    "df[\"Price\"] = df[\"Price\"].astype(float)\n",
    "\n",
    "print(\"\\n✅ Data cleaned and ready for analysis!\")\n",
    "print(df.info())\n"
   ]
  },
  {
   "cell_type": "markdown",
   "id": "670c7f63-18ee-4b8a-bb99-c831369728bc",
   "metadata": {},
   "source": [
    "## Step 4: Exploratory Data Analysis (EDA)\n",
    "### 4.1 Distribution of Books by Genre"
   ]
  },
  {
   "cell_type": "code",
   "execution_count": null,
   "id": "cf2adc30-1577-4b9f-886d-6c1247847b5a",
   "metadata": {},
   "outputs": [],
   "source": [
    "genre_counts = df['Genre'].value_counts()\n",
    "print(\"\\nBooks by Genre:\\n\", genre_counts)\n",
    "\n",
    "plt.figure(figsize=(6,4))\n",
    "plt.bar(genre_counts.index, genre_counts.values, color=['skyblue','lightgreen'])\n",
    "plt.title(\"Distribution of Books by Genre\")\n",
    "plt.xlabel(\"Genre\")\n",
    "plt.ylabel(\"Count\")\n",
    "plt.tight_layout()\n",
    "plt.show()"
   ]
  },
  {
   "cell_type": "markdown",
   "id": "c2fbf89a-a0e4-4720-94fe-150b42ab71ea",
   "metadata": {},
   "source": [
    "### 4.2 Top 10 Authors by Number of Bestsellers"
   ]
  },
  {
   "cell_type": "code",
   "execution_count": null,
   "id": "3a7158df-d06e-499b-8532-1206f29786f0",
   "metadata": {},
   "outputs": [],
   "source": [
    "author_counts = df['Author'].value_counts().head(10)\n",
    "print(\"\\nTop 10 Authors:\\n\", author_counts)\n",
    "\n",
    "plt.figure(figsize=(10,5))\n",
    "plt.barh(author_counts.index[::-1], author_counts.values[::-1], color='lightcoral')\n",
    "plt.title(\"Top 10 Best-Selling Authors (2009–2019)\")\n",
    "plt.xlabel(\"Number of Books in Top 50\")\n",
    "plt.ylabel(\"Author\")\n",
    "plt.tight_layout()\n",
    "plt.show()"
   ]
  },
  {
   "cell_type": "markdown",
   "id": "7c343e65-ff37-4b49-90f7-2d4c7e4fc370",
   "metadata": {},
   "source": [
    "### 4.3 Average Rating by Genre"
   ]
  },
  {
   "cell_type": "code",
   "execution_count": null,
   "id": "f5cd1d82-0166-48e5-9d58-eba15134f39c",
   "metadata": {},
   "outputs": [],
   "source": [
    "avg_rating_by_genre = df.groupby(\"Genre\")[\"Rating\"].mean().sort_values(ascending=False)\n",
    "print(\"\\nAverage Rating by Genre:\\n\", avg_rating_by_genre)\n",
    "\n",
    "plt.figure(figsize=(6,4))\n",
    "plt.bar(avg_rating_by_genre.index, avg_rating_by_genre.values, color=['orange','purple'])\n",
    "plt.title(\"Average Rating by Genre\")\n",
    "plt.xlabel(\"Genre\")\n",
    "plt.ylabel(\"Average Rating\")\n",
    "plt.ylim(4.5, 4.7)\n",
    "plt.tight_layout()\n",
    "plt.show()"
   ]
  },
  {
   "cell_type": "markdown",
   "id": "ec7c5acf-5172-4ee6-9c92-6e28e81fba81",
   "metadata": {},
   "source": [
    "### 4.4 Yearly Trends in Bestsellers"
   ]
  },
  {
   "cell_type": "code",
   "execution_count": null,
   "id": "a19488f3-4830-4336-817e-343b4e08dad3",
   "metadata": {},
   "outputs": [],
   "source": [
    "books_per_year = df['Publication Year'].value_counts().sort_index()\n",
    "print(\"\\nBooks per Year:\\n\", books_per_year)\n",
    "\n",
    "plt.figure(figsize=(10,5))\n",
    "plt.plot(books_per_year.index, books_per_year.values, marker='o', linestyle='-', color='blue')\n",
    "plt.title(\"Number of Bestsellers per Year (2009–2019)\")\n",
    "plt.xlabel(\"Year\")\n",
    "plt.ylabel(\"Number of Books\")\n",
    "plt.grid(True)\n",
    "plt.tight_layout()\n",
    "plt.show()"
   ]
  },
  {
   "cell_type": "markdown",
   "id": "2cf4637b-c816-44d1-ba77-987213c8b073",
   "metadata": {},
   "source": [
    "### 4.5 Relationship: Rating vs. Price"
   ]
  },
  {
   "cell_type": "code",
   "execution_count": null,
   "id": "7b6e78d9-e83c-4027-a150-4d4113d00eb5",
   "metadata": {},
   "outputs": [],
   "source": [
    "plt.figure(figsize=(7,5))\n",
    "for genre in df['Genre'].unique():\n",
    "    subset = df[df['Genre']==genre]\n",
    "    plt.scatter(subset['Price'], subset['Rating'], label=genre, alpha=0.7)\n",
    "plt.title(\"Book Price vs. Rating by Genre\")\n",
    "plt.xlabel(\"Price ($)\")\n",
    "plt.ylabel(\"Rating\")\n",
    "plt.legend()\n",
    "plt.tight_layout()\n",
    "plt.show()"
   ]
  },
  {
   "cell_type": "markdown",
   "id": "d83e09b6-3381-40ca-be07-9bbe624dc983",
   "metadata": {},
   "source": [
    "### 4.6 Correlation Between Numeric Variables"
   ]
  },
  {
   "cell_type": "code",
   "execution_count": null,
   "id": "3f0187c9-df8d-44ed-883b-edec384c32f5",
   "metadata": {},
   "outputs": [],
   "source": [
    "corr = df[['Rating', 'Reviews', 'Price', 'Publication Year']].corr()\n",
    "print(\"\\nCorrelation Matrix:\\n\", corr)\n",
    "\n",
    "plt.figure(figsize=(6,4))\n",
    "plt.imshow(corr, cmap='Blues', interpolation='none')\n",
    "plt.colorbar()\n",
    "plt.xticks(range(len(corr)), corr.columns, rotation=45)\n",
    "plt.yticks(range(len(corr)), corr.columns)\n",
    "plt.title(\"Correlation Heatmap\")\n",
    "plt.tight_layout()\n",
    "plt.show()"
   ]
  },
  {
   "cell_type": "markdown",
   "id": "f7d7a0f7-c3a1-4418-9dd8-f9a1b8df4408",
   "metadata": {},
   "source": [
    "## Step 5: Export Key Insights"
   ]
  },
  {
   "cell_type": "code",
   "execution_count": null,
   "id": "d3d18adb-7fd1-4f82-a9cd-3f8fd7a94aa6",
   "metadata": {},
   "outputs": [],
   "source": [
    "author_counts.to_csv(\"top_10_authors.csv\")\n",
    "avg_rating_by_genre.to_csv(\"avg_rating_by_genre.csv\")\n",
    "books_per_year.to_csv(\"books_per_year.csv\")\n",
    "\n",
    "print(\"\\nCSV files exported successfully:\")\n",
    "print(\"- top_10_authors.csv\")\n",
    "print(\"- avg_rating_by_genre.csv\")\n",
    "print(\"- books_per_year.csv\")"
   ]
  },
  {
   "cell_type": "markdown",
   "id": "3465e033-7236-43f6-b3fe-fc2a5b5db9e5",
   "metadata": {},
   "source": [
    "## Step 6: Summary Insights"
   ]
  },
  {
   "cell_type": "code",
   "execution_count": null,
   "id": "4a5d41dd-be6e-4cae-a738-2b90ed535bf4",
   "metadata": {},
   "outputs": [],
   "source": [
    "print(\"\\nKEY INSIGHTS:\")\n",
    "print(\"---------------------------------------------------\")\n",
    "print(\"• Fiction books maintain slightly higher ratings on average than Non-Fiction.\")\n",
    "print(\"• A few authors like Jeff Kinney and Suzanne Collins dominated the charts.\")\n",
    "print(\"• 2014–2017 saw a rise in the number of top sellers, suggesting strong publishing cycles.\")\n",
    "print(\"• Price has minimal correlation with Rating, but expensive books tend to get fewer reviews.\")\n",
    "print(\"• Consistently high-rated authors correlate with popular long-running series.\")\n",
    "print(\"---------------------------------------------------\")\n",
    "print(\"\\nAnalysis complete!\")"
   ]
  }
 ],
 "metadata": {
  "kernelspec": {
   "display_name": "Python [conda env:base] *",
   "language": "python",
   "name": "conda-base-py"
  },
  "language_info": {
   "codemirror_mode": {
    "name": "ipython",
    "version": 3
   },
   "file_extension": ".py",
   "mimetype": "text/x-python",
   "name": "python",
   "nbconvert_exporter": "python",
   "pygments_lexer": "ipython3",
   "version": "3.13.5"
  }
 },
 "nbformat": 4,
 "nbformat_minor": 5
}
